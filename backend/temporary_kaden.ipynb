{
 "cells": [
  {
   "cell_type": "code",
   "execution_count": 6,
   "metadata": {},
   "outputs": [],
   "source": [
    "import re\n",
    "import requests\n",
    "from bs4 import BeautifulSoup\n",
    "\n",
    "import greenrecipe_web as web\n",
    "import greenrecipe_db as db\n",
    "import greenrecipe_nlp as nlp\n",
    "import greenrecipe_total as total\n",
    "\n"
   ]
  },
  {
   "cell_type": "markdown",
   "metadata": {},
   "source": [
    "## What's happened inside greenrecipe_back_end"
   ]
  },
  {
   "cell_type": "code",
   "execution_count": 7,
   "metadata": {},
   "outputs": [
    {
     "name": "stderr",
     "output_type": "stream",
     "text": [
      "Warning : `load_model` does not return WordVectorModel or SupervisedModel any more, but a `FastText` object which is very similar.\n"
     ]
    }
   ],
   "source": [
    "gr = total.greenrecipe()"
   ]
  },
  {
   "cell_type": "code",
   "execution_count": 8,
   "metadata": {},
   "outputs": [
    {
     "name": "stdout",
     "output_type": "stream",
     "text": [
      "----------------------------------------\n",
      "## Web Scraping ....\n",
      "Sweet and Spicy Vegetarian Chili Recipe [{'ingredient': 'canola oil', 'quantity': 1.232, 'unit': 'ml'}, {'ingredient': 'onion', 'quantity': 0.3, 'unit': 'ea'}, {'ingredient': 'sweet pepper', 'quantity': 0.1, 'unit': 'ea'}, {'ingredient': 'garlic', 'quantity': 0.4, 'unit': 'ea'}, {'ingredient': 'chili powder', 'quantity': 1.848, 'unit': 'ml'}, {'ingredient': 'cumin', 'quantity': 1.232, 'unit': 'ml'}, {'ingredient': 'oregano', 'quantity': 0.616, 'unit': 'ml'}, {'ingredient': 'bay leaf', 'quantity': 0.1, 'unit': 'ea'}, {'ingredient': 'chile pepper', 'quantity': 15.946000000000002, 'unit': 'g'}, {'ingredient': 'salt', 'quantity': 0.616, 'unit': 'ml'}, {'ingredient': 'broth', 'quantity': 22.18, 'unit': 'ml'}, {'ingredient': 'tomato', 'quantity': 51.383, 'unit': 'g'}, {'ingredient': 'kidney bean', 'quantity': 51.383, 'unit': 'g'}, {'ingredient': 'black bean', 'quantity': 51.383, 'unit': 'g'}, {'ingredient': 'corn', 'quantity': 29.573, 'unit': 'ml'}, {'ingredient': 'worcestershire sauce', 'quantity': 1.848, 'unit': 'ml'}, {'ingredient': 'barley', 'quantity': 3.697, 'unit': 'ml'}, {'ingredient': 'pepper', 'quantity': 0.0, 'unit': 'ea'}, {'ingredient': 'avocado', 'quantity': 0.0, 'unit': 'ea'}, {'ingredient': 'jack cheese', 'quantity': 0.0, 'unit': 'ea'}, {'ingredient': 'sour cream', 'quantity': 0.0, 'unit': 'ea'}]\n",
      "----------------------------------------\n",
      "## NLP for Ingredient ....\n",
      "[{'orig': 'canola oil', 'new': 'wheat bread'}, {'orig': 'sweet pepper', 'new': 'sweet potato'}, {'orig': 'chili powder', 'new': 'onion powder'}, {'orig': 'bay leaf', 'new': 'bay leaves'}, {'orig': 'chile pepper', 'new': 'bell pepper'}, {'orig': 'broth', 'new': 'chicken'}, {'orig': 'kidney bean', 'new': 'kidney beans'}, {'orig': 'black bean', 'new': 'black beans'}, {'orig': 'worcestershire sauce', 'new': 'tabasco sauce'}, {'orig': 'jack cheese', 'new': 'curd cheese'}]\n",
      "----------------------------------------\n",
      "## Calculate CO2 ....\n",
      "207.83\n",
      "----------------------------------------\n",
      "{'recipeName': 'Sweet and Spicy Vegetarian Chili Recipe', 'totalCO2': 207.83, 'ingrdCO2List': [{'ingredient': 'wheat bread', 'co2': 0.75}, {'ingredient': 'onion', 'co2': 0.13}, {'ingredient': 'sweet potato', 'co2': 0.04}, {'ingredient': 'garlic', 'co2': 0.18}, {'ingredient': 'onion powder', 'co2': 7.53}, {'ingredient': 'cumin', 'co2': 0.8}, {'ingredient': 'oregano', 'co2': 0.35}, {'ingredient': 'bay leaves', 'co2': 0.06}, {'ingredient': 'bell pepper', 'co2': 41.78}, {'ingredient': 'salt', 'co2': 0.36}, {'ingredient': 'chicken', 'co2': 55.01}, {'ingredient': 'tomato', 'co2': 25.95}, {'ingredient': 'kidney beans', 'co2': 27.59}, {'ingredient': 'black beans', 'co2': 27.59}, {'ingredient': 'corn', 'co2': 10.47}, {'ingredient': 'tabasco sauce', 'co2': 7.9}, {'ingredient': 'barley', 'co2': 1.34}, {'ingredient': 'pepper', 'co2': 0.0}, {'ingredient': 'avocado', 'co2': 0.0}, {'ingredient': 'curd cheese', 'co2': 0.0}, {'ingredient': 'sour cream', 'co2': 0.0}]}\n"
     ]
    }
   ],
   "source": [
    "# input = 'https://www.food.com/recipe/creamy-cajun-chicken-pasta-39087'\n",
    "input = 'sweet-and-spicy-vegetarian-chili-97649'\n",
    "\n",
    "result = gr.get_co2_emissions(input, True)\n",
    "print(result)"
   ]
  },
  {
   "cell_type": "code",
   "execution_count": 9,
   "metadata": {},
   "outputs": [
    {
     "data": {
      "text/plain": [
       "\"{'recipeName': 'Sweet and Spicy Vegetarian Chili Recipe', 'totalCO2': 207.83, 'ingrdCO2List': [{'ingredient': 'wheat bread', 'co2': 0.75}, {'ingredient': 'onion', 'co2': 0.13}, {'ingredient': 'sweet potato', 'co2': 0.04}, {'ingredient': 'garlic', 'co2': 0.18}, {'ingredient': 'onion powder', 'co2': 7.53}, {'ingredient': 'cumin', 'co2': 0.8}, {'ingredient': 'oregano', 'co2': 0.35}, {'ingredient': 'bay leaves', 'co2': 0.06}, {'ingredient': 'bell pepper', 'co2': 41.78}, {'ingredient': 'salt', 'co2': 0.36}, {'ingredient': 'chicken', 'co2': 55.01}, {'ingredient': 'tomato', 'co2': 25.95}, {'ingredient': 'kidney beans', 'co2': 27.59}, {'ingredient': 'black beans', 'co2': 27.59}, {'ingredient': 'corn', 'co2': 10.47}, {'ingredient': 'tabasco sauce', 'co2': 7.9}, {'ingredient': 'barley', 'co2': 1.34}, {'ingredient': 'pepper', 'co2': 0.0}, {'ingredient': 'avocado', 'co2': 0.0}, {'ingredient': 'curd cheese', 'co2': 0.0}, {'ingredient': 'sour cream', 'co2': 0.0}]}\""
      ]
     },
     "execution_count": 9,
     "metadata": {},
     "output_type": "execute_result"
    }
   ],
   "source": [
    "'{}'.format(result)"
   ]
  },
  {
   "cell_type": "markdown",
   "metadata": {},
   "source": [
    "## Detail behavior"
   ]
  },
  {
   "cell_type": "code",
   "execution_count": 10,
   "metadata": {},
   "outputs": [
    {
     "name": "stdout",
     "output_type": "stream",
     "text": [
      "Sweet and Spicy Vegetarian Chili Recipe\n",
      "[{'ingredient': 'canola oil', 'quantity': 1.232, 'unit': 'ml'}, {'ingredient': 'onion', 'quantity': 0.3, 'unit': 'ea'}, {'ingredient': 'sweet pepper', 'quantity': 0.1, 'unit': 'ea'}, {'ingredient': 'garlic', 'quantity': 0.4, 'unit': 'ea'}, {'ingredient': 'chili powder', 'quantity': 1.848, 'unit': 'ml'}, {'ingredient': 'cumin', 'quantity': 1.232, 'unit': 'ml'}, {'ingredient': 'oregano', 'quantity': 0.616, 'unit': 'ml'}, {'ingredient': 'bay leaf', 'quantity': 0.1, 'unit': 'ea'}, {'ingredient': 'chile pepper', 'quantity': 15.946000000000002, 'unit': 'g'}, {'ingredient': 'salt', 'quantity': 0.616, 'unit': 'ml'}, {'ingredient': 'broth', 'quantity': 22.18, 'unit': 'ml'}, {'ingredient': 'tomato', 'quantity': 51.383, 'unit': 'g'}, {'ingredient': 'kidney bean', 'quantity': 51.383, 'unit': 'g'}, {'ingredient': 'black bean', 'quantity': 51.383, 'unit': 'g'}, {'ingredient': 'corn', 'quantity': 29.573, 'unit': 'ml'}, {'ingredient': 'worcestershire sauce', 'quantity': 1.848, 'unit': 'ml'}, {'ingredient': 'barley', 'quantity': 3.697, 'unit': 'ml'}, {'ingredient': 'pepper', 'quantity': 0.0, 'unit': 'ea'}, {'ingredient': 'avocado', 'quantity': 0.0, 'unit': 'ea'}, {'ingredient': 'jack cheese', 'quantity': 0.0, 'unit': 'ea'}, {'ingredient': 'sour cream', 'quantity': 0.0, 'unit': 'ea'}]\n"
     ]
    }
   ],
   "source": [
    "# input = 'https://www.food.com/recipe/creamy-cajun-chicken-pasta-39087'\n",
    "input = 'sweet-and-spicy-vegetarian-chili-97649'\n",
    "\n",
    "urlsoup = web.requestRecipeUrl(input)\n",
    "recipeName, ingrdList = web.parseRecipeIngrd(urlsoup)\n",
    "print(recipeName)\n",
    "print(ingrdList)"
   ]
  },
  {
   "cell_type": "code",
   "execution_count": 11,
   "metadata": {},
   "outputs": [
    {
     "ename": "AttributeError",
     "evalue": "module 'greenrecipe_nlp' has no attribute 'ingrd_matching'",
     "output_type": "error",
     "traceback": [
      "\u001b[0;31m---------------------------------------------------------------------------\u001b[0m",
      "\u001b[0;31mAttributeError\u001b[0m                            Traceback (most recent call last)",
      "Cell \u001b[0;32mIn [11], line 1\u001b[0m\n\u001b[0;32m----> 1\u001b[0m ingrdList \u001b[38;5;241m=\u001b[39m \u001b[43mnlp\u001b[49m\u001b[38;5;241;43m.\u001b[39;49m\u001b[43mingrd_matching\u001b[49m(ingrdList)\n\u001b[1;32m      3\u001b[0m greenrecipe_db \u001b[38;5;241m=\u001b[39m db\u001b[38;5;241m.\u001b[39mgreenrecipe_db()\n\u001b[1;32m      4\u001b[0m total_co2, ingrdList_co2 \u001b[38;5;241m=\u001b[39m greenrecipe_db\u001b[38;5;241m.\u001b[39msearch_ingrdCO2_total(ingrdList)\n",
      "\u001b[0;31mAttributeError\u001b[0m: module 'greenrecipe_nlp' has no attribute 'ingrd_matching'"
     ]
    }
   ],
   "source": [
    "ingrdList = nlp.ingrd_matching(ingrdList)\n",
    "\n",
    "greenrecipe_db = db.greenrecipe_db()\n",
    "total_co2, ingrdList_co2 = greenrecipe_db.search_ingrdCO2_total(ingrdList)\n",
    "\n",
    "print(ingrdList_co2)\n",
    "print(total_co2)"
   ]
  },
  {
   "cell_type": "code",
   "execution_count": null,
   "metadata": {},
   "outputs": [],
   "source": []
  }
 ],
 "metadata": {
  "kernelspec": {
   "display_name": "Python 3 (ipykernel)",
   "language": "python",
   "name": "python3"
  },
  "language_info": {
   "codemirror_mode": {
    "name": "ipython",
    "version": 3
   },
   "file_extension": ".py",
   "mimetype": "text/x-python",
   "name": "python",
   "nbconvert_exporter": "python",
   "pygments_lexer": "ipython3",
   "version": "3.11.0"
  },
  "vscode": {
   "interpreter": {
    "hash": "aee8b7b246df8f9039afb4144a1f6fd8d2ca17a180786b69acc140d282b71a49"
   }
  }
 },
 "nbformat": 4,
 "nbformat_minor": 2
}
